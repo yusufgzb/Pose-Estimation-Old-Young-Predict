{
 "cells": [
  {
   "cell_type": "code",
   "execution_count": 1,
   "metadata": {},
   "outputs": [
    {
     "name": "stdout",
     "output_type": "stream",
     "text": [
      "2048\n",
      "2048\n",
      "Found 3793 images belonging to 2 classes.\n",
      "Found 421 images belonging to 2 classes.\n"
     ]
    }
   ],
   "source": [
    "import tensorflow as tf\n",
    "from tensorflow.keras.preprocessing.image import ImageDataGenerator,img_to_array,load_img\n",
    "\n",
    "base_dir = r\"data2\"\n",
    "img =load_img(\"beyaz.png\")\n",
    "x=img_to_array(img)\n",
    "print(x.shape[0])\n",
    "print(x.shape[1])\n",
    "\n",
    "train_datagen = ImageDataGenerator(\n",
    "    rescale=1./255,\n",
    "    validation_split=0.1\n",
    ")\n",
    "\n",
    "test_datagen = ImageDataGenerator(\n",
    "    rescale=1./255,\n",
    "    validation_split=0.1\n",
    ")\n",
    "train_datagen=train_datagen.flow_from_directory(base_dir,target_size=(x.shape[0],x.shape[1]),subset=\"training\",batch_size=2)\n",
    "test_datagen=test_datagen.flow_from_directory(base_dir,target_size=(x.shape[0],x.shape[1]),subset=\"validation\",batch_size=2)\n"
   ]
  },
  {
   "cell_type": "code",
   "execution_count": 2,
   "metadata": {},
   "outputs": [
    {
     "name": "stdout",
     "output_type": "stream",
     "text": [
      "Note: you may need to restart the kernel to use updated packages.\n"
     ]
    }
   ],
   "source": [
    "pip freeze>aa.txt"
   ]
  },
  {
   "cell_type": "code",
   "execution_count": 3,
   "metadata": {},
   "outputs": [],
   "source": [
    "import numpy as np\n",
    "from tensorflow.keras import backend as K\n",
    "from tensorflow.keras.utils import to_categorical \n",
    "from tensorflow.keras.models import Sequential \n",
    "from tensorflow.keras.layers import Conv2D , MaxPooling2D , Dense, Dropout,Activation,Flatten \n",
    "from tensorflow.keras import layers,activations\n"
   ]
  },
  {
   "cell_type": "code",
   "execution_count": 4,
   "metadata": {},
   "outputs": [],
   "source": [
    "model = Sequential()\n",
    "\n",
    "model.add(Conv2D(filters=8,activation=\"elu\",kernel_size=(5,5),input_shape=(x.shape[0],x.shape[1],3)))\n",
    "model.add(MaxPooling2D(2,2))\n",
    "\n",
    "model.add(Conv2D(filters=16,activation=\"elu\",kernel_size=(5,5)))\n",
    "model.add(MaxPooling2D(2,2))\n",
    "\n",
    "model.add(Conv2D(filters=24,activation=\"elu\",kernel_size=(2,2)))\n",
    "model.add(MaxPooling2D(2,2))\n",
    "\n",
    "model.add(Conv2D(filters=32,activation=\"elu\",kernel_size=(2,2)))\n",
    "\n",
    "\n",
    "\n",
    "model.add(Flatten())\n",
    "\n",
    "model.add(Dense(50,activation=\"elu\"))\n",
    "model.add(Dense(100,activation=\"elu\"))\n",
    "model.add(Dense(2,activation=\"sigmoid\"))"
   ]
  },
  {
   "cell_type": "code",
   "execution_count": 5,
   "metadata": {},
   "outputs": [
    {
     "name": "stdout",
     "output_type": "stream",
     "text": [
      "Model: \"sequential\"\n",
      "_________________________________________________________________\n",
      "Layer (type)                 Output Shape              Param #   \n",
      "=================================================================\n",
      "conv2d (Conv2D)              (None, 2044, 2044, 8)     608       \n",
      "_________________________________________________________________\n",
      "max_pooling2d (MaxPooling2D) (None, 1022, 1022, 8)     0         \n",
      "_________________________________________________________________\n",
      "conv2d_1 (Conv2D)            (None, 1018, 1018, 16)    3216      \n",
      "_________________________________________________________________\n",
      "max_pooling2d_1 (MaxPooling2 (None, 509, 509, 16)      0         \n",
      "_________________________________________________________________\n",
      "conv2d_2 (Conv2D)            (None, 508, 508, 24)      1560      \n",
      "_________________________________________________________________\n",
      "max_pooling2d_2 (MaxPooling2 (None, 254, 254, 24)      0         \n",
      "_________________________________________________________________\n",
      "conv2d_3 (Conv2D)            (None, 253, 253, 32)      3104      \n",
      "_________________________________________________________________\n",
      "flatten (Flatten)            (None, 2048288)           0         \n",
      "_________________________________________________________________\n",
      "dense (Dense)                (None, 50)                102414450 \n",
      "_________________________________________________________________\n",
      "dense_1 (Dense)              (None, 100)               5100      \n",
      "_________________________________________________________________\n",
      "dense_2 (Dense)              (None, 2)                 202       \n",
      "=================================================================\n",
      "Total params: 102,428,240\n",
      "Trainable params: 102,428,240\n",
      "Non-trainable params: 0\n",
      "_________________________________________________________________\n"
     ]
    }
   ],
   "source": [
    "model.summary()\n"
   ]
  },
  {
   "cell_type": "code",
   "execution_count": 9,
   "metadata": {},
   "outputs": [],
   "source": [
    "optimizer=tf.keras.optimizers.Adamax(learning_rate=0.001)\n",
    "loss = tf.keras.losses.CategoricalCrossentropy()"
   ]
  },
  {
   "cell_type": "code",
   "execution_count": 7,
   "metadata": {},
   "outputs": [],
   "source": [
    "model.compile(optimizer=optimizer,loss=loss,metrics=['mse','accuracy'])"
   ]
  },
  {
   "cell_type": "code",
   "execution_count": 8,
   "metadata": {},
   "outputs": [
    {
     "name": "stdout",
     "output_type": "stream",
     "text": [
      "Epoch 1/2\n",
      "323/323 [==============================] - 752s 2s/step - loss: 6.3485 - mse: 0.3969 - accuracy: 0.5395 - val_loss: 1.1867 - val_mse: 0.3461 - val_accuracy: 0.6197\n",
      "Epoch 2/2\n",
      "323/323 [==============================] - 793s 2s/step - loss: 1.1019 - mse: 0.3154 - accuracy: 0.5550 - val_loss: 0.8946 - val_mse: 0.3055 - val_accuracy: 0.6197\n"
     ]
    }
   ],
   "source": [
    "result = model.fit(\n",
    "    train_datagen,\n",
    "    epochs=2,\n",
    "    verbose=1,\n",
    "    validation_data=test_datagen\n",
    "    )"
   ]
  },
  {
   "cell_type": "code",
   "execution_count": 14,
   "metadata": {},
   "outputs": [],
   "source": [
    "result.model.save(\"deneme.h5\")"
   ]
  },
  {
   "cell_type": "code",
   "execution_count": 15,
   "metadata": {},
   "outputs": [
    {
     "name": "stdout",
     "output_type": "stream",
     "text": [
      "Model: \"sequential\"\n",
      "_________________________________________________________________\n",
      "Layer (type)                 Output Shape              Param #   \n",
      "=================================================================\n",
      "conv2d (Conv2D)              (None, 2044, 2044, 8)     608       \n",
      "_________________________________________________________________\n",
      "max_pooling2d (MaxPooling2D) (None, 1022, 1022, 8)     0         \n",
      "_________________________________________________________________\n",
      "conv2d_1 (Conv2D)            (None, 1018, 1018, 16)    3216      \n",
      "_________________________________________________________________\n",
      "max_pooling2d_1 (MaxPooling2 (None, 509, 509, 16)      0         \n",
      "_________________________________________________________________\n",
      "conv2d_2 (Conv2D)            (None, 508, 508, 24)      1560      \n",
      "_________________________________________________________________\n",
      "max_pooling2d_2 (MaxPooling2 (None, 254, 254, 24)      0         \n",
      "_________________________________________________________________\n",
      "conv2d_3 (Conv2D)            (None, 253, 253, 32)      3104      \n",
      "_________________________________________________________________\n",
      "flatten (Flatten)            (None, 2048288)           0         \n",
      "_________________________________________________________________\n",
      "dense (Dense)                (None, 50)                102414450 \n",
      "_________________________________________________________________\n",
      "dense_1 (Dense)              (None, 100)               5100      \n",
      "_________________________________________________________________\n",
      "dense_2 (Dense)              (None, 2)                 202       \n",
      "=================================================================\n",
      "Total params: 102,428,240\n",
      "Trainable params: 102,428,240\n",
      "Non-trainable params: 0\n",
      "_________________________________________________________________\n"
     ]
    }
   ],
   "source": [
    "modell= tf.keras.models.load_model(\"deneme.h5\")\n",
    "modell.summary()"
   ]
  },
  {
   "cell_type": "code",
   "execution_count": 19,
   "metadata": {},
   "outputs": [
    {
     "name": "stderr",
     "output_type": "stream",
     "text": [
      "c:\\Users\\YUSUF\\Anaconda3\\envs\\Cpu\\lib\\site-packages\\tensorflow\\python\\keras\\engine\\sequential.py:455: UserWarning: `model.predict_classes()` is deprecated and will be removed after 2021-01-01. Please use instead:* `np.argmax(model.predict(x), axis=-1)`,   if your model does multi-class classification   (e.g. if it uses a `softmax` last-layer activation).* `(model.predict(x) > 0.5).astype(\"int32\")`,   if your model does binary classification   (e.g. if it uses a `sigmoid` last-layer activation).\n",
      "  warnings.warn('`model.predict_classes()` is deprecated and '\n"
     ]
    },
    {
     "name": "stdout",
     "output_type": "stream",
     "text": [
      "[1]\n"
     ]
    }
   ],
   "source": [
    "from tensorflow.keras.preprocessing import image\n",
    "\n",
    "img = image.load_img(\"data2/yasli/34368.jpg\", target_size=(x.shape[0], x.shape[1]))\n",
    "x = image.img_to_array(img)\n",
    "x = np.expand_dims(x, axis=0)\n",
    "images = np.vstack([x])\n",
    "classes = model.predict_classes(images, batch_size=10)\n",
    "print(classes)"
   ]
  },
  {
   "cell_type": "code",
   "execution_count": null,
   "metadata": {},
   "outputs": [],
   "source": [
    "from tensorflow.keras.layers import Input,concatenate#birleştirme\n",
    "from tensorflow.keras.models import Model"
   ]
  },
  {
   "cell_type": "code",
   "execution_count": null,
   "metadata": {},
   "outputs": [],
   "source": [
    "input_ = Input(shape=(x.shape[0],x.shape[1],3))\n",
    "\n",
    "#1. Yapı\n",
    "conv11 = Conv2D(filters=8,kernel_size=(5,5),activation=\"elu\")(input_)\n",
    "max11 = MaxPooling2D((2,2))(conv11)\n",
    "conv12 = Conv2D(filters=16,kernel_size=(5,5),activation=\"elu\")(max11)\n",
    "max12 = MaxPooling2D((2,2))(conv12)\n",
    "flatten1= Flatten()(max12)\n",
    "\n",
    "#2. Yapı\n",
    "conv21 = Conv2D(filters=32,kernel_size=(3,3),activation=\"elu\")(input_)\n",
    "max21 = MaxPooling2D((2,2))(conv21)\n",
    "conv22 = Conv2D(filters=64,kernel_size=(2,2),activation=\"elu\")(max21)\n",
    "max22 = MaxPooling2D((2,2))(conv22)\n",
    "flatten2= Flatten()(max22)\n",
    "\n",
    "marge = concatenate([flatten1,flatten2])\n",
    "\n",
    "fc1=Dense(50,activation=\"elu\")(marge)\n",
    "fc2=Dense(100,activation=\"elu\")(fc1)\n",
    "fc3=Dense(100,activation=\"elu\")(fc2)\n",
    "fc4=Dense(50,activation=\"elu\")(fc3)\n",
    "out=Dense(2,activation=\"softmax\")(fc4)\n",
    "\n",
    "model = Model(inputs=input_,outputs=out)"
   ]
  },
  {
   "cell_type": "code",
   "execution_count": null,
   "metadata": {},
   "outputs": [],
   "source": [
    "optimizer=tf.keras.optimizers.Adamax(learning_rate=0.001)\n",
    "loss = tf.keras.losses.CategoricalCrossentropy()\n",
    "model.compile(optimizer=optimizer,loss=loss,metrics=['mse','accuracy'])\n"
   ]
  },
  {
   "cell_type": "code",
   "execution_count": null,
   "metadata": {},
   "outputs": [
    {
     "name": "stdout",
     "output_type": "stream",
     "text": [
      "Epoch 1/2\n",
      "91/91 [==============================] - 183s 2s/step - loss: 7.9520 - mse: 0.3292 - accuracy: 0.6243 - val_loss: 5.2523 - val_mse: 0.2632 - val_accuracy: 0.7368\n",
      "Epoch 2/2\n",
      "91/91 [==============================] - 120s 1s/step - loss: 3.1412 - mse: 0.3512 - accuracy: 0.6077 - val_loss: 0.7575 - val_mse: 0.2744 - val_accuracy: 0.5263\n"
     ]
    }
   ],
   "source": [
    "result = model.fit(train_datagen,epochs=2,verbose=1,validation_data=test_datagen)\n"
   ]
  },
  {
   "cell_type": "code",
   "execution_count": null,
   "metadata": {},
   "outputs": [],
   "source": []
  }
 ],
 "metadata": {
  "interpreter": {
   "hash": "0f4978da38edf1ba166722ead0f5df1846f281311222034ed3dac4e086681839"
  },
  "kernelspec": {
   "display_name": "Python 3.7.13 ('Cpu')",
   "language": "python",
   "name": "python3"
  },
  "language_info": {
   "codemirror_mode": {
    "name": "ipython",
    "version": 3
   },
   "file_extension": ".py",
   "mimetype": "text/x-python",
   "name": "python",
   "nbconvert_exporter": "python",
   "pygments_lexer": "ipython3",
   "version": "3.7.13"
  },
  "orig_nbformat": 4
 },
 "nbformat": 4,
 "nbformat_minor": 2
}
