{
 "cells": [
  {
   "cell_type": "code",
   "execution_count": 1,
   "metadata": {},
   "outputs": [
    {
     "name": "stdout",
     "output_type": "stream",
     "text": [
      "['ben1yasli.mp4', 'VID_20220518_093604.mp4']\n",
      "yasliVideo//ben1yasli.mp4\n",
      "yasliVideo//VID_20220518_093604.mp4\n",
      "caps [<VideoCapture 0000022E787122D0>, <VideoCapture 0000022E78757950>]\n"
     ]
    }
   ],
   "source": [
    "import cv2\n",
    "import mediapipe as mp\n",
    "import numpy as np\n",
    "import pandas as pd\n",
    "import csv\n",
    "counter = 0 \n",
    "stage = None\n",
    "\n",
    "from os import listdir\n",
    "from os.path import isfile, join\n",
    "mypath=\"yasliVideo/\"\n",
    "onlyfiles = [f for f in listdir(mypath) if isfile(join(mypath, f))]\n",
    "print(onlyfiles)\n",
    "videoListe=len(onlyfiles)\n",
    "caps=[]\n",
    "for i in onlyfiles:\n",
    "    cap = cv2.VideoCapture(mypath+\"/\"+i)\n",
    "    print(mypath+\"/\"+i)\n",
    "    caps.append(cap)\n",
    "print(\"caps\",caps)\n",
    "\n",
    "\n",
    "mp_drawing = mp.solutions.drawing_utils\n",
    "mp_pose = mp.solutions.pose\n",
    "i=0\n",
    "\n",
    "yazmaSayac=0\n",
    "with mp_pose.Pose(min_detection_confidence=0.5, min_tracking_confidence=0.5) as pose:\n",
    "    while True:\n",
    "\n",
    "        cap.set(cv2.CAP_PROP_FPS,1)\n",
    "        ret,frame=caps[i].read()\n",
    "        if not ret:\n",
    "            i=i+1\n",
    "            ret,frame=caps[i].read()\n",
    "\n",
    "        \n",
    "        frame = cv2.resize(frame,(800,800))\n",
    "\n",
    "\n",
    "        image = cv2.cvtColor(frame,cv2.COLOR_BGR2RGB)\n",
    "        image.flags.writeable = False\n",
    "        try:\n",
    "                \n",
    "            results = pose.process(image)\n",
    "\n",
    "            image.flags.writeable = True\n",
    "            image = cv2.cvtColor(image,cv2.COLOR_RGB2BGR)\n",
    "            try:\n",
    "                landmarks = results.pose_landmarks.landmark\n",
    "\n",
    "\n",
    "            except:\n",
    "                pass\n",
    "            mp_drawing.draw_landmarks(image, results.pose_landmarks, mp_pose.POSE_CONNECTIONS,\n",
    "                                    mp_drawing.DrawingSpec(color=(245,117,66), thickness=2, circle_radius=2), \n",
    "                                    mp_drawing.DrawingSpec(color=(245,66,230), thickness=2, circle_radius=2) )\n",
    "\n",
    "           \n",
    "           \n",
    "            pose_row = np.array([[landmark.x,landmark.y] for landmark in landmarks]).flatten()\n",
    "            pose_row_list = pose_row.tolist()\n",
    "            pose_row_list.insert(0,\"yasli\")\n",
    "            pose_row_list.insert(1,onlyfiles[i])\n",
    "            \n",
    "            with open(\"butunNoktalar11.csv\",mode=\"a\",newline=\"\") as f:\n",
    "                csv_writer = csv.writer(f,delimiter=\",\",quotechar='\"',quoting=csv.QUOTE_MINIMAL)\n",
    "                csv_writer.writerow(pose_row_list)\n",
    "\n",
    "            mp_drawing.draw_landmarks(image, results.pose_landmarks, mp_pose.POSE_CONNECTIONS,\n",
    "                                    mp_drawing.DrawingSpec(color=(245,117,66), thickness=2, circle_radius=2), \n",
    "                                    mp_drawing.DrawingSpec(color=(245,66,230), thickness=2, circle_radius=2) \n",
    "                                    )               \n",
    "        except:\n",
    "            pass\n",
    "        \n",
    "        cv2.imshow('Mediapipe Feed', image)\n",
    "\n",
    "        if cv2.waitKey(10) & 0xFF == ord('q'):\n",
    "            break\n",
    "\n",
    "    cv2.destroyAllWindows()"
   ]
  },
  {
   "cell_type": "code",
   "execution_count": null,
   "metadata": {},
   "outputs": [],
   "source": []
  }
 ],
 "metadata": {
  "interpreter": {
   "hash": "68bed6826d7fb94b23543d86350406c21cf1b649894326c47d6c46c51ac14db6"
  },
  "kernelspec": {
   "display_name": "Python 3.7.4 ('base')",
   "language": "python",
   "name": "python3"
  },
  "language_info": {
   "codemirror_mode": {
    "name": "ipython",
    "version": 3
   },
   "file_extension": ".py",
   "mimetype": "text/x-python",
   "name": "python",
   "nbconvert_exporter": "python",
   "pygments_lexer": "ipython3",
   "version": "3.7.4"
  }
 },
 "nbformat": 4,
 "nbformat_minor": 2
}
